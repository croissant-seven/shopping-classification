{
 "cells": [
  {
   "cell_type": "code",
   "execution_count": 16,
   "metadata": {},
   "outputs": [
    {
     "name": "stdout",
     "output_type": "stream",
     "text": [
      "['cate', 'pid', 'uni', 'w_uni']\n",
      "[0 0 0 ... 0 0 0]\n",
      "b''\n",
      "[33115 25901 84622 37459 29396 98227 72085 86814     0     0     0     0\n",
      "     0     0     0     0     0     0     0     0     0     0     0     0\n",
      "     0     0     0     0     0     0     0     0]\n",
      "[2. 1. 1. 1. 1. 1. 1. 1. 0. 0. 0. 0. 0. 0. 0. 0. 0. 0. 0. 0. 0. 0. 0. 0.\n",
      " 0. 0. 0. 0. 0. 0. 0. 0.]\n"
     ]
    }
   ],
   "source": [
    "import h5py\n",
    "\n",
    "f = h5py.File('data/train/data.h5py', 'r')\n",
    "print(list(f['train'].keys()))\n",
    "print(f['train']['cate'][5])\n",
    "print(f['train']['pid'][5])\n",
    "print(f['train']['uni'][5])\n",
    "print(f['train']['w_uni'][5])\n"
   ]
  },
  {
   "cell_type": "code",
   "execution_count": 24,
   "metadata": {},
   "outputs": [
    {
     "name": "stdout",
     "output_type": "stream",
     "text": [
      "[[1 2 3]\n",
      " [4 5 6]]\n",
      "21\n",
      "0.21\n"
     ]
    }
   ],
   "source": [
    "\"\"\"\n",
    "Regularizer\n",
    "\"\"\"\n",
    "from keras import backend\n",
    "import tensorflow as tf\n",
    "\n",
    "weight_mat = [[1,2,3],[-4,-5,6]]\n",
    "weight_abs = backend.abs(weight_mat)\n",
    "weight_sum = backend.sum(weight_abs)\n",
    "\n",
    "sess = tf.InteractiveSession()\n",
    "print(weight_abs.eval())\n",
    "print(weight_sum.eval())\n",
    "print(0.01 * weight_sum.eval())\n",
    "sess.close()"
   ]
  },
  {
   "cell_type": "code",
   "execution_count": 76,
   "metadata": {},
   "outputs": [
    {
     "name": "stdout",
     "output_type": "stream",
     "text": [
      "_________________________________________________________________\n",
      "Layer (type)                 Output Shape              Param #   \n",
      "=================================================================\n",
      "inp (InputLayer)             (None, 5)                 0         \n",
      "_________________________________________________________________\n",
      "emb (Embedding)              (None, 5, 4)              20        \n",
      "_________________________________________________________________\n",
      "re (Activation)              (None, 5, 4)              0         \n",
      "_________________________________________________________________\n",
      "dense_17 (Dense)             (None, 5, 4)              20        \n",
      "=================================================================\n",
      "Total params: 40\n",
      "Trainable params: 40\n",
      "Non-trainable params: 0\n",
      "_________________________________________________________________\n"
     ]
    },
    {
     "data": {
      "text/plain": [
       "array([[[0.49956906, 0.4999168 , 0.49882746, 0.49971697],\n",
       "        [0.49950844, 0.49950844, 0.49950838, 0.49950844],\n",
       "        [0.4974325 , 0.4988142 , 0.5007742 , 0.49939522],\n",
       "        [0.5010859 , 0.5036656 , 0.49593925, 0.50232446],\n",
       "        [0.49329588, 0.49897507, 0.49456215, 0.4939665 ]],\n",
       "\n",
       "       [[0.49956906, 0.4999168 , 0.49882746, 0.49971697],\n",
       "        [0.49956906, 0.4999168 , 0.49882746, 0.49971697],\n",
       "        [0.49956906, 0.4999168 , 0.49882746, 0.49971697],\n",
       "        [0.49956906, 0.4999168 , 0.49882746, 0.49971697],\n",
       "        [0.49956906, 0.4999168 , 0.49882746, 0.49971697]]], dtype=float32)"
      ]
     },
     "execution_count": 76,
     "metadata": {},
     "output_type": "execute_result"
    }
   ],
   "source": [
    "\"\"\"\n",
    "Embedding\n",
    "\"\"\"\n",
    "from keras.models import Model\n",
    "from keras.layers import Input, Dense\n",
    "from keras.layers.embeddings import Embedding\n",
    "from keras.layers.core import Activation\n",
    "from keras.optimizers import Nadam\n",
    "import numpy as np\n",
    "\n",
    "input = Input((5,), name = \"inp\")\n",
    "embedding = Embedding(5, 4, name = \"emb\")\n",
    "input_embedding = embedding(input)\n",
    "\n",
    "relu = Activation('relu', name='re')(input_embedding)\n",
    "output = Dense(4, activation = 'sigmoid')(relu)\n",
    "model = Model(inputs=[input], outputs=output)\n",
    "model.compile(loss='binary_crossentropy', optimizer = Nadam(1e-5))\n",
    "model.summary()\n",
    "\n",
    "\n",
    "X = np.array([[1,2,3,4,0],[1,3,1,0,0]])\n",
    "Y = np.zeros((2,5,4))\n",
    "model.fit(X, Y, epochs=200, verbose=0)\n",
    "\n",
    "target = np.array([[1,2,3,4,0],[1,1,1,1,1]])\n",
    "model.predict(target)"
   ]
  },
  {
   "cell_type": "code",
   "execution_count": null,
   "metadata": {},
   "outputs": [],
   "source": []
  }
 ],
 "metadata": {
  "kernelspec": {
   "display_name": "Python 3",
   "language": "python",
   "name": "python3"
  },
  "language_info": {
   "codemirror_mode": {
    "name": "ipython",
    "version": 3
   },
   "file_extension": ".py",
   "mimetype": "text/x-python",
   "name": "python",
   "nbconvert_exporter": "python",
   "pygments_lexer": "ipython3",
   "version": "3.6.5"
  }
 },
 "nbformat": 4,
 "nbformat_minor": 1
}
